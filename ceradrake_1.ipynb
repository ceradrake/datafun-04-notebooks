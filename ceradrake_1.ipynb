{
 "cells": [
  {
   "cell_type": "markdown",
   "metadata": {},
   "source": [
    "# Module 4 Project\n",
    "Author: [Cera Drake](https://github.com/ceradrake) \n",
    "Repository: [datafun-04-notebooks](https://github.com/ceradrake/datafun-04-notebooks)"
   ]
  },
  {
   "cell_type": "markdown",
   "metadata": {},
   "source": [
    "## Task 1 - Series"
   ]
  },
  {
   "cell_type": "code",
   "execution_count": 1,
   "metadata": {},
   "outputs": [
    {
     "data": {
      "text/plain": [
       "count    10.000000\n",
       "mean     77.200000\n",
       "std      20.334973\n",
       "min      34.000000\n",
       "25%      69.750000\n",
       "50%      81.000000\n",
       "75%      92.000000\n",
       "max      99.000000\n",
       "dtype: float64"
      ]
     },
     "execution_count": 1,
     "metadata": {},
     "output_type": "execute_result"
    }
   ],
   "source": [
    "import pandas as pd \n",
    "grades = pd.Series([78, 80, 55, 82, 97, 67, 99, 34, 86, 94])\n",
    "grades[0]\n",
    "grades.count()\n",
    "grades.mean()\n",
    "grades.min()\n",
    "grades.max()\n",
    "grades.std()\n",
    "grades.describe()"
   ]
  },
  {
   "cell_type": "markdown",
   "metadata": {},
   "source": [
    "## Series from Dictionary"
   ]
  }
 ],
 "metadata": {
  "kernelspec": {
   "display_name": ".venv",
   "language": "python",
   "name": "python3"
  },
  "language_info": {
   "codemirror_mode": {
    "name": "ipython",
    "version": 3
   },
   "file_extension": ".py",
   "mimetype": "text/x-python",
   "name": "python",
   "nbconvert_exporter": "python",
   "pygments_lexer": "ipython3",
   "version": "3.11.4"
  },
  "orig_nbformat": 4
 },
 "nbformat": 4,
 "nbformat_minor": 2
}
